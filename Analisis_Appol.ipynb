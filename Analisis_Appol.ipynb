{
 "cells": [
  {
   "cell_type": "markdown",
   "metadata": {},
   "source": [
    "Importar librerías que van a utilizarse"
   ]
  },
  {
   "cell_type": "code",
   "execution_count": 1,
   "metadata": {},
   "outputs": [],
   "source": [
    "import pandas as pd\n",
    "import matplotlib.pyplot as plt\n",
    "import seaborn as sns\n",
    "import numpy as np"
   ]
  },
  {
   "cell_type": "markdown",
   "metadata": {},
   "source": [
    "### Datos del FP 20 #18\n",
    "Se crea un dataframe de la hoja de excel \"Appol Datos\"\n",
    "y visualizamos los primeros registros"
   ]
  },
  {
   "cell_type": "code",
   "execution_count": 2,
   "metadata": {},
   "outputs": [
    {
     "data": {
      "text/html": [
       "<div>\n",
       "<style scoped>\n",
       "    .dataframe tbody tr th:only-of-type {\n",
       "        vertical-align: middle;\n",
       "    }\n",
       "\n",
       "    .dataframe tbody tr th {\n",
       "        vertical-align: top;\n",
       "    }\n",
       "\n",
       "    .dataframe thead th {\n",
       "        text-align: right;\n",
       "    }\n",
       "</style>\n",
       "<table border=\"1\" class=\"dataframe\">\n",
       "  <thead>\n",
       "    <tr style=\"text-align: right;\">\n",
       "      <th></th>\n",
       "      <th>Periodo</th>\n",
       "      <th>Tipo Producto</th>\n",
       "      <th>Region</th>\n",
       "      <th>Ingresos</th>\n",
       "      <th>Gastos</th>\n",
       "      <th>Unnamed: 5</th>\n",
       "      <th>Unnamed: 6</th>\n",
       "      <th>Unnamed: 7</th>\n",
       "      <th>Unnamed: 8</th>\n",
       "      <th>Unnamed: 9</th>\n",
       "    </tr>\n",
       "  </thead>\n",
       "  <tbody>\n",
       "    <tr>\n",
       "      <th>0</th>\n",
       "      <td>Q1 2019</td>\n",
       "      <td>Accesorios</td>\n",
       "      <td>AGO - África/Angola</td>\n",
       "      <td>66319.703782</td>\n",
       "      <td>56708.152509</td>\n",
       "      <td>NaN</td>\n",
       "      <td>NaN</td>\n",
       "      <td>NaN</td>\n",
       "      <td>NaN</td>\n",
       "      <td>NaN</td>\n",
       "    </tr>\n",
       "    <tr>\n",
       "      <th>1</th>\n",
       "      <td>Q1 2019</td>\n",
       "      <td>Aplicaciones</td>\n",
       "      <td>AGO - África/Angola</td>\n",
       "      <td>122357.282946</td>\n",
       "      <td>77039.770744</td>\n",
       "      <td>NaN</td>\n",
       "      <td>NaN</td>\n",
       "      <td>NaN</td>\n",
       "      <td>NaN</td>\n",
       "      <td>NaN</td>\n",
       "    </tr>\n",
       "    <tr>\n",
       "      <th>2</th>\n",
       "      <td>Q1 2019</td>\n",
       "      <td>Celulares</td>\n",
       "      <td>AGO - África/Angola</td>\n",
       "      <td>265278.815126</td>\n",
       "      <td>215226.208498</td>\n",
       "      <td>NaN</td>\n",
       "      <td>NaN</td>\n",
       "      <td>NaN</td>\n",
       "      <td>NaN</td>\n",
       "      <td>NaN</td>\n",
       "    </tr>\n",
       "    <tr>\n",
       "      <th>3</th>\n",
       "      <td>Q1 2019</td>\n",
       "      <td>Musica</td>\n",
       "      <td>AGO - África/Angola</td>\n",
       "      <td>130447.020661</td>\n",
       "      <td>86964.680441</td>\n",
       "      <td>NaN</td>\n",
       "      <td>NaN</td>\n",
       "      <td>NaN</td>\n",
       "      <td>NaN</td>\n",
       "      <td>NaN</td>\n",
       "    </tr>\n",
       "    <tr>\n",
       "      <th>4</th>\n",
       "      <td>Q1 2019</td>\n",
       "      <td>PC</td>\n",
       "      <td>AGO - África/Angola</td>\n",
       "      <td>394602.237500</td>\n",
       "      <td>326567.368966</td>\n",
       "      <td>NaN</td>\n",
       "      <td>NaN</td>\n",
       "      <td>NaN</td>\n",
       "      <td>NaN</td>\n",
       "      <td>NaN</td>\n",
       "    </tr>\n",
       "    <tr>\n",
       "      <th>5</th>\n",
       "      <td>Q1 2019</td>\n",
       "      <td>Tablets</td>\n",
       "      <td>AGO - África/Angola</td>\n",
       "      <td>81152.131105</td>\n",
       "      <td>69217.994178</td>\n",
       "      <td>NaN</td>\n",
       "      <td>NaN</td>\n",
       "      <td>NaN</td>\n",
       "      <td>NaN</td>\n",
       "      <td>NaN</td>\n",
       "    </tr>\n",
       "    <tr>\n",
       "      <th>6</th>\n",
       "      <td>Q1 2019</td>\n",
       "      <td>TV</td>\n",
       "      <td>AGO - África/Angola</td>\n",
       "      <td>44777.558865</td>\n",
       "      <td>28193.277804</td>\n",
       "      <td>NaN</td>\n",
       "      <td>NaN</td>\n",
       "      <td>NaN</td>\n",
       "      <td>NaN</td>\n",
       "      <td>NaN</td>\n",
       "    </tr>\n",
       "    <tr>\n",
       "      <th>7</th>\n",
       "      <td>Q1 2019</td>\n",
       "      <td>Accesorios</td>\n",
       "      <td>ARG - América/Argentina</td>\n",
       "      <td>88128.954459</td>\n",
       "      <td>73914.606966</td>\n",
       "      <td>NaN</td>\n",
       "      <td>NaN</td>\n",
       "      <td>NaN</td>\n",
       "      <td>NaN</td>\n",
       "      <td>NaN</td>\n",
       "    </tr>\n",
       "    <tr>\n",
       "      <th>8</th>\n",
       "      <td>Q1 2019</td>\n",
       "      <td>Aplicaciones</td>\n",
       "      <td>ARG - América/Argentina</td>\n",
       "      <td>135405.128280</td>\n",
       "      <td>73857.342698</td>\n",
       "      <td>NaN</td>\n",
       "      <td>NaN</td>\n",
       "      <td>NaN</td>\n",
       "      <td>NaN</td>\n",
       "      <td>NaN</td>\n",
       "    </tr>\n",
       "    <tr>\n",
       "      <th>9</th>\n",
       "      <td>Q1 2019</td>\n",
       "      <td>Celulares</td>\n",
       "      <td>ARG - América/Argentina</td>\n",
       "      <td>464439.590000</td>\n",
       "      <td>417526.500101</td>\n",
       "      <td>NaN</td>\n",
       "      <td>NaN</td>\n",
       "      <td>NaN</td>\n",
       "      <td>NaN</td>\n",
       "      <td>NaN</td>\n",
       "    </tr>\n",
       "  </tbody>\n",
       "</table>\n",
       "</div>"
      ],
      "text/plain": [
       "   Periodo Tipo Producto                   Region       Ingresos  \\\n",
       "0  Q1 2019    Accesorios      AGO - África/Angola   66319.703782   \n",
       "1  Q1 2019  Aplicaciones      AGO - África/Angola  122357.282946   \n",
       "2  Q1 2019     Celulares      AGO - África/Angola  265278.815126   \n",
       "3  Q1 2019        Musica      AGO - África/Angola  130447.020661   \n",
       "4  Q1 2019            PC      AGO - África/Angola  394602.237500   \n",
       "5  Q1 2019       Tablets      AGO - África/Angola   81152.131105   \n",
       "6  Q1 2019            TV      AGO - África/Angola   44777.558865   \n",
       "7  Q1 2019    Accesorios  ARG - América/Argentina   88128.954459   \n",
       "8  Q1 2019  Aplicaciones  ARG - América/Argentina  135405.128280   \n",
       "9  Q1 2019     Celulares  ARG - América/Argentina  464439.590000   \n",
       "\n",
       "          Gastos  Unnamed: 5  Unnamed: 6  Unnamed: 7  Unnamed: 8 Unnamed: 9  \n",
       "0   56708.152509         NaN         NaN         NaN         NaN        NaN  \n",
       "1   77039.770744         NaN         NaN         NaN         NaN        NaN  \n",
       "2  215226.208498         NaN         NaN         NaN         NaN        NaN  \n",
       "3   86964.680441         NaN         NaN         NaN         NaN        NaN  \n",
       "4  326567.368966         NaN         NaN         NaN         NaN        NaN  \n",
       "5   69217.994178         NaN         NaN         NaN         NaN        NaN  \n",
       "6   28193.277804         NaN         NaN         NaN         NaN        NaN  \n",
       "7   73914.606966         NaN         NaN         NaN         NaN        NaN  \n",
       "8   73857.342698         NaN         NaN         NaN         NaN        NaN  \n",
       "9  417526.500101         NaN         NaN         NaN         NaN        NaN  "
      ]
     },
     "execution_count": 2,
     "metadata": {},
     "output_type": "execute_result"
    }
   ],
   "source": [
    "# Método read_excel de la librería de 'pandas' para crear el dataframe a partir de una tabla de excel\n",
    "df_appol = pd.read_excel(\"Appol Datos.xlsx\")\n",
    "# [df].head(n) para visualizar los primeros 'n' registros del dataframe\n",
    "df_appol.head(10)"
   ]
  },
  {
   "cell_type": "markdown",
   "metadata": {},
   "source": [
    "### Información del dataframe"
   ]
  },
  {
   "cell_type": "code",
   "execution_count": 9,
   "metadata": {},
   "outputs": [
    {
     "name": "stdout",
     "output_type": "stream",
     "text": [
      "<class 'pandas.core.frame.DataFrame'>\n",
      "RangeIndex: 4704 entries, 0 to 4703\n",
      "Data columns (total 5 columns):\n",
      " #   Column         Non-Null Count  Dtype  \n",
      "---  ------         --------------  -----  \n",
      " 0   Periodo        4704 non-null   object \n",
      " 1   Tipo Producto  4704 non-null   object \n",
      " 2   Region         4704 non-null   object \n",
      " 3   Ingresos       4704 non-null   float64\n",
      " 4   Gastos         4704 non-null   float64\n",
      "dtypes: float64(2), object(3)\n",
      "memory usage: 183.9+ KB\n"
     ]
    }
   ],
   "source": [
    "# Eliminamos previamente las columnas sin nombres con [df].drop()\n",
    "df_appol = df_appol.drop(['Unnamed: 5', 'Unnamed: 6', 'Unnamed: 7', 'Unnamed: 8', 'Unnamed: 9'], axis=1)\n",
    "# [df].info() para obtener información del dataframe\n",
    "df_appol.info()"
   ]
  },
  {
   "cell_type": "markdown",
   "metadata": {},
   "source": [
    "### Tratamiento de registros nulos y duplicados\n",
    "Se busca encontrar los registos nulos y quitarlos, de ser neceraio."
   ]
  },
  {
   "cell_type": "code",
   "execution_count": 10,
   "metadata": {},
   "outputs": [
    {
     "name": "stdout",
     "output_type": "stream",
     "text": [
      "Campos numéricos nulos:\n",
      "Ingresos    0\n",
      "Gastos      0\n",
      "dtype: int64\n"
     ]
    }
   ],
   "source": [
    "# [df].isnull().sum() para revisar los campos numéricos nulos\n",
    "columnas_numericas = ['Ingresos', 'Gastos']\n",
    "df_appol[columnas_numericas].isnull().sum()\n",
    "print(\"Campos numéricos nulos:\")\n",
    "print(df_appol[columnas_numericas].isnull().sum())"
   ]
  },
  {
   "cell_type": "markdown",
   "metadata": {},
   "source": [
    "Como no hay registros nulos solo se busca eliminar duplicados"
   ]
  },
  {
   "cell_type": "code",
   "execution_count": 11,
   "metadata": {},
   "outputs": [
    {
     "name": "stdout",
     "output_type": "stream",
     "text": [
      "Cantidad de registros después de limpiar: 4704\n"
     ]
    }
   ],
   "source": [
    "# [df].drop_duplicates() elimina los registros duplicados\n",
    "df_appol_limpio = df_appol.drop_duplicates()\n",
    "\n",
    "print(f\"Cantidad de registros después de limpiar: {df_appol_limpio.shape[0]}\")"
   ]
  },
  {
   "cell_type": "markdown",
   "metadata": {},
   "source": [
    "Significa que el dataframe original no contiene nulos ni duplicados,\n",
    "por tanto se anula el paso final de crar un csv con los datos sin nulos\n",
    "ni puplicados."
   ]
  },
  {
   "cell_type": "markdown",
   "metadata": {},
   "source": [
    "### Valores Atípicos."
   ]
  },
  {
   "cell_type": "code",
   "execution_count": 12,
   "metadata": {},
   "outputs": [
    {
     "data": {
      "image/png": "[encoded data removed]",
      "text/plain": [
       "<Figure size 1500x1000 with 2 Axes>"
      ]
     },
     "metadata": {},
     "output_type": "display_data"
    }
   ],
   "source": [
    "plt.figure(figsize=(15, 10))\n",
    "\n",
    "for i, col in enumerate(columnas_numericas):\n",
    "    plt.subplot(2, 2, i+1)\n",
    "    sns.boxplot(y=df_appol_limpio[col])\n",
    "    plt.title(f\"Boxplot de {col}\")\n",
    "\n",
    "plt.tight_layout()\n",
    "plt.show()"
   ]
  },
  {
   "cell_type": "markdown",
   "metadata": {},
   "source": [
    "### Datos estadísticos de las variables numéricas.\n",
    "Media aritmética, desviación estandar, valor máximo, valor mínimo,\n",
    "moda, mediana, percentiles 10, 25, 75, 90."
   ]
  },
  {
   "cell_type": "code",
   "execution_count": 13,
   "metadata": {},
   "outputs": [
    {
     "name": "stdout",
     "output_type": "stream",
     "text": [
      "Datos estadísticos de las columnas numéricas:\n",
      "           count           mean           std          min           25%  \\\n",
      "Ingresos  4704.0  715015.775340  2.133173e+06  6571.491561  57200.740101   \n",
      "Gastos    4704.0  572347.939597  1.777783e+06  3765.600144  42040.915300   \n",
      "\n",
      "                    50%            75%           max  maximo  minimo  \\\n",
      "Ingresos  150751.334835  438862.328578  3.108754e+07    2713    4703   \n",
      "Gastos    111326.049532  346960.308790  2.501593e+07    2713    3618   \n",
      "\n",
      "                  mode         median           10%           90%  \n",
      "Ingresos  30912.008982  150751.334835  22962.855952  1.439088e+06  \n",
      "Gastos    32418.521870  111326.049532  17588.195856  1.170617e+06  \n"
     ]
    }
   ],
   "source": [
    "stats = df_appol_limpio[columnas_numericas].describe().T\n",
    "stats['std'] = df_appol_limpio[columnas_numericas].std()\n",
    "stats['maximo'] = df_appol_limpio[columnas_numericas].idxmax()\n",
    "stats['minimo'] = df_appol_limpio[columnas_numericas].idxmin()\n",
    "stats['mode'] = df_appol_limpio[columnas_numericas].mode().iloc[0]\n",
    "stats['median'] = df_appol_limpio[columnas_numericas].median()\n",
    "stats['10%'] = df_appol_limpio[columnas_numericas].quantile(0.10)\n",
    "stats['25%'] = df_appol_limpio[columnas_numericas].quantile(0.25)\n",
    "stats['75%'] = df_appol_limpio[columnas_numericas].quantile(0.75)\n",
    "stats['90%'] = df_appol_limpio[columnas_numericas].quantile(0.90)\n",
    "\n",
    "print(\"Datos estadísticos de las columnas numéricas:\")\n",
    "print(stats)"
   ]
  },
  {
   "cell_type": "markdown",
   "metadata": {},
   "source": [
    "### Diagrama de Correlación entre variables numéricas."
   ]
  },
  {
   "cell_type": "code",
   "execution_count": 14,
   "metadata": {},
   "outputs": [
    {
     "data": {
      "image/png": "[encoded data removed]",
      "text/plain": [
       "<Figure size 1000x800 with 2 Axes>"
      ]
     },
     "metadata": {},
     "output_type": "display_data"
    }
   ],
   "source": [
    "# [df].corr() para crear la matriz de correlación\n",
    "corr_df = df_appol_limpio[columnas_numericas].corr()\n",
    "\n",
    "# [df].heatmap() de seaborn y  otros metodos de matplotlib para el diagrama de calor.\n",
    "plt.figure(figsize=(10, 8))\n",
    "sns.heatmap(corr_df, annot=True, cmap='coolwarm', fmt=\".2f\")\n",
    "plt.title(\"Matriz de correlación\")\n",
    "plt.show()"
   ]
  },
  {
   "cell_type": "markdown",
   "metadata": {},
   "source": [
    "Se puede apreciar una gran correlación entre las variables numericas de gastos e ingresos."
   ]
  }
 ],
 "metadata": {
  "kernelspec": {
   "display_name": "Python 3",
   "language": "python",
   "name": "python3"
  },
  "language_info": {
   "codemirror_mode": {
    "name": "ipython",
    "version": 3
   },
   "file_extension": ".py",
   "mimetype": "text/x-python",
   "name": "python",
   "nbconvert_exporter": "python",
   "pygments_lexer": "ipython3",
   "version": "3.12.3"
  }
 },
 "nbformat": 4,
 "nbformat_minor": 2
}
